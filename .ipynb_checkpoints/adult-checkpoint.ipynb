{
 "cells": [
  {
   "cell_type": "code",
   "execution_count": 1,
   "id": "de8984b0",
   "metadata": {},
   "outputs": [],
   "source": [
    "import numpy as np\n",
    "import pandas as pd\n",
    "import matplotlib.pyplot as plt\n",
    "from sklearn.preprocessing import LabelEncoder\n",
    "from sklearn.model_selection import train_test_split\n",
    "from sklearn.tree import DecisionTreeClassifier\n",
    "from sklearn.preprocessing import MinMaxScaler\n",
    "from sklearn.preprocessing import StandardScaler\n",
    "from sklearn.neighbors import KNeighborsRegressor\n",
    "from sklearn.ensemble import RandomForestRegressor\n",
    "from sklearn.svm import SVR\n",
    "from sklearn.metrics import mean_absolute_error\n",
    "from sklearn.metrics import mean_squared_error\n",
    "from sklearn import tree\n",
    "import matplotlib.pyplot as plt\n",
    "import math"
   ]
  },
  {
   "cell_type": "code",
   "execution_count": 2,
   "id": "a6a1195c",
   "metadata": {},
   "outputs": [],
   "source": [
    "def plot_feature_importances_adult(model):\n",
    "    n_features = X.shape[1]\n",
    "    plt.figure()\n",
    "    plt.barh(np.arange(n_features), model.feature_importances_, align='center')\n",
    "    plt.yticks(np.arange(n_features), X.columns)\n",
    "    plt.xlabel(\"Feature importance\")\n",
    "    plt.ylabel(\"Feature\")\n",
    "    plt.ylim(-1, n_features)\n",
    "    plt.show()"
   ]
  },
  {
   "cell_type": "code",
   "execution_count": 3,
   "id": "884cb66b",
   "metadata": {},
   "outputs": [],
   "source": [
    "#匯入資料\n",
    "data = pd.read_csv(\"C:\\\\adult.csv\")\n",
    "test_data = pd.read_csv(\"C:\\\\adult.test1.csv\")"
   ]
  },
  {
   "cell_type": "code",
   "execution_count": 4,
   "id": "bf74c619",
   "metadata": {},
   "outputs": [
    {
     "name": "stdout",
     "output_type": "stream",
     "text": [
      "       age  workclass  fnlwgt  educational-num  marital-status  occupation  \\\n",
      "0       25          3  226802                7               4           7   \n",
      "1       38          3   89814                9               2           5   \n",
      "2       28          1  336951               12               2          11   \n",
      "3       44          3  160323               10               2           7   \n",
      "5       34          3  198693                6               4           8   \n",
      "...    ...        ...     ...              ...             ...         ...   \n",
      "48837   27          3  257302               12               2          13   \n",
      "48838   40          3  154374                9               2           7   \n",
      "48839   58          3  151910                9               6           1   \n",
      "48840   22          3  201490                9               4           1   \n",
      "48841   52          4  287927                9               2           4   \n",
      "\n",
      "       relationship  race  gender  hours-per-week  native-country  \n",
      "0                 3     2       1              40              38  \n",
      "1                 0     4       1              50              38  \n",
      "2                 0     4       1              40              38  \n",
      "3                 0     2       1              40              38  \n",
      "5                 1     4       1              30              38  \n",
      "...             ...   ...     ...             ...             ...  \n",
      "48837             5     4       0              38              38  \n",
      "48838             0     4       1              40              38  \n",
      "48839             4     4       0              40              38  \n",
      "48840             3     4       1              20              38  \n",
      "48841             5     4       0              40              38  \n",
      "\n",
      "[45232 rows x 11 columns]\n"
     ]
    }
   ],
   "source": [
    "#Training data Preprocessing\n",
    "data = data.drop([\"education\"], axis=1) #education、educational-num兩屬性意思相同，drop education屬性\n",
    "data = data.drop([\"capital-gain\"], axis=1) \n",
    "data = data.drop([\"capital-loss\"], axis=1) \n",
    "data = data.drop(data[data[\"workclass\"]==\"?\"].index)\n",
    "data = data.drop(data[data[\"native-country\"]==\"?\"].index)\n",
    "data = data.drop([\"income\"], axis=1)\n",
    "\n",
    "for col in data[[\"workclass\", \"marital-status\", \"occupation\", \"relationship\", \"race\", \"gender\", \"native-country\"]]:\n",
    "    LE = LabelEncoder()\n",
    "    data[col] = LE.fit_transform(data[col])\n",
    "\n",
    "\n",
    "print(data)\n"
   ]
  },
  {
   "cell_type": "code",
   "execution_count": 5,
   "id": "0498974c",
   "metadata": {},
   "outputs": [],
   "source": [
    "##test data preprocessing\n",
    "test_data = test_data.drop([\"education\"], axis=1) #education、educational-num兩屬性意思相同，drop education屬性\n",
    "test_data = test_data.drop([\"capital-gain\"], axis=1) \n",
    "test_data = test_data.drop([\"capital-loss\"], axis=1) \n",
    "test_data = test_data.drop(data[data[\"workclass\"]==\"?\"].index)\n",
    "test_data = test_data.drop(data[data[\"native-country\"]==\"?\"].index)\n",
    "test_data = test_data.drop([\"income\"], axis=1)\n",
    "    \n",
    "for col in data[[\"workclass\", \"marital-status\", \"occupation\", \"relationship\", \"race\", \"gender\", \"native-country\"]]:\n",
    "    LE = LabelEncoder()   \n",
    "    test_data[col] = LE.fit_transform(test_data[col])\n"
   ]
  },
  {
   "cell_type": "code",
   "execution_count": 6,
   "id": "ff2993ff",
   "metadata": {},
   "outputs": [
    {
     "name": "stdout",
     "output_type": "stream",
     "text": [
      "            age  workclass  educational-num  marital-status  occupation  \\\n",
      "0     -1.024550  -0.091407         0.350844       -1.221254    0.942837   \n",
      "1     -0.041138  -0.091407        -0.945951       -0.437867   -0.390113   \n",
      "2     -0.797609  -1.838889         1.393568        0.737214   -0.390113   \n",
      "3      0.412744  -0.091407        -0.278479       -0.046173   -0.390113   \n",
      "4     -0.343726  -0.091407         0.084750       -1.612947    0.942837   \n",
      "...         ...        ...              ...             ...         ...   \n",
      "45227 -0.873256  -0.091407         0.639572        0.737214   -0.390113   \n",
      "45228  0.110156  -0.091407        -0.334795       -0.437867   -0.390113   \n",
      "45229  1.471802  -0.091407        -0.358120       -0.437867    2.275786   \n",
      "45230 -1.251491  -0.091407         0.111228       -0.437867    0.942837   \n",
      "45231  1.017920   0.782333         0.929483       -0.437867   -0.390113   \n",
      "\n",
      "       relationship      race   gernder  hours-per-week  native-country  \\\n",
      "0          0.007938  0.993568 -2.018597        0.693805       -0.077889   \n",
      "1         -0.488680 -0.884663  0.384171        0.693805        0.754834   \n",
      "2          1.001173 -0.884663  0.384171        0.693805       -0.077889   \n",
      "3          0.007938 -0.884663 -2.018597        0.693805       -0.077889   \n",
      "4          0.256247 -0.258586  0.384171        0.693805       -0.910612   \n",
      "...             ...       ...       ...             ...             ...   \n",
      "45227      1.497791  2.245722  0.384171       -1.441328       -0.244434   \n",
      "45228      0.007938 -0.884663  0.384171        0.693805       -0.077889   \n",
      "45229     -1.481915  1.619645  0.384171       -1.441328       -0.077889   \n",
      "45230     -1.481915  0.993568  0.384171        0.693805       -1.743335   \n",
      "45231     -0.736988  2.245722  0.384171       -1.441328       -0.077889   \n",
      "\n",
      "         income  \n",
      "0      0.262968  \n",
      "1      0.262968  \n",
      "2      0.262968  \n",
      "3      0.262968  \n",
      "4      0.262968  \n",
      "...         ...  \n",
      "45227  0.262968  \n",
      "45228  0.262968  \n",
      "45229  0.262968  \n",
      "45230  0.262968  \n",
      "45231  0.262968  \n",
      "\n",
      "[45232 rows x 11 columns]\n"
     ]
    }
   ],
   "source": [
    "#訓練資料標準化\n",
    "scaler = StandardScaler()\n",
    "scaler.fit(data)\n",
    "scaler_feature = scaler.transform(data)\n",
    "data_scaler = pd.DataFrame(data=scaler_feature, columns=['age','workclass','educational-num','marital-status','occupation',\n",
    "                                                    'relationship','race','gernder','hours-per-week','native-country','income'])\n",
    "print(data_scaler)"
   ]
  },
  {
   "cell_type": "code",
   "execution_count": 7,
   "id": "84e6b1aa",
   "metadata": {},
   "outputs": [
    {
     "name": "stdout",
     "output_type": "stream",
     "text": [
      "            age  workclass  educational-num  marital-status  occupation  \\\n",
      "0     -0.994129   0.085414         0.353474       -1.196864    0.905239   \n",
      "1     -0.055417   0.085414        -0.942391       -0.417886   -0.418769   \n",
      "2     -0.777503  -1.265356         1.395450        0.750582   -0.418769   \n",
      "3      0.377835   0.085414        -0.275397       -0.028397   -0.418769   \n",
      "4     -1.499590  -2.616126        -0.812954       -0.028397    0.905239   \n",
      "...         ...        ...              ...             ...         ...   \n",
      "16276  0.016791   0.085414         0.245794        1.140071   -1.742777   \n",
      "16277  1.822007  -2.616126         1.248371       -0.417886    2.229247   \n",
      "16278 -0.055417   0.085414         1.755221        1.140071   -0.418769   \n",
      "16279  0.377835   0.085414        -0.998420        1.140071   -1.742777   \n",
      "16280 -0.272043   0.760799        -0.068939        1.140071   -0.418769   \n",
      "\n",
      "       relationship      race   gernder  hours-per-week  native-country  \\\n",
      "0          0.097403  0.981172 -1.990286        0.706521       -0.031432   \n",
      "1         -0.374987 -0.902239  0.389812        0.706521        0.769918   \n",
      "2          1.042181 -0.902239  0.389812        0.706521       -0.031432   \n",
      "3          0.097403 -0.902239 -1.990286        0.706521       -0.031432   \n",
      "4         -1.555960  0.981172  0.389812       -1.415387       -0.832781   \n",
      "...             ...       ...       ...             ...             ...   \n",
      "16276      0.805987 -0.274435  0.389812       -1.415387       -0.351972   \n",
      "16277     -1.555960  0.353369 -1.990286        0.706521       -0.031432   \n",
      "16278      0.805987 -0.902239  0.389812        0.706521        0.769918   \n",
      "16279     -1.319766  0.981172 -3.180335        0.706521       -0.031432   \n",
      "16280     -0.611182 -0.902239  0.389812        0.706521        1.571267   \n",
      "\n",
      "         income  \n",
      "0      0.286402  \n",
      "1      0.286402  \n",
      "2      0.286402  \n",
      "3      0.286402  \n",
      "4      0.286402  \n",
      "...         ...  \n",
      "16276  0.286402  \n",
      "16277  0.286402  \n",
      "16278  0.286402  \n",
      "16279  0.286402  \n",
      "16280  0.286402  \n",
      "\n",
      "[16281 rows x 11 columns]\n"
     ]
    }
   ],
   "source": [
    "#測試資料標準化\n",
    "scaler = StandardScaler()\n",
    "scaler.fit(test_data)\n",
    "scaler_feature = scaler.transform(test_data)\n",
    "test_data_scaler = pd.DataFrame(data=scaler_feature, columns=['age','workclass','educational-num','marital-status','occupation',\n",
    "                                                    'relationship','race','gernder','hours-per-week','native-country','income'])\n",
    "print(test_data_scaler)"
   ]
  },
  {
   "cell_type": "code",
   "execution_count": 8,
   "id": "8641d6f1",
   "metadata": {},
   "outputs": [],
   "source": [
    "# # #Data mining(not use max_depth)\n",
    "y_train = data_scaler['hours-per-week'].values.reshape(-1,1)\n",
    "\n",
    "x_train = data_scaler.drop(['hours-per-week'], axis=1)\n",
    "\n",
    "y_test = test_data_scaler['hours-per-week'].values.reshape(-1,1)\n",
    "\n",
    "x_test = test_data_scaler.drop([\"hours-per-week\"], axis=1)"
   ]
  },
  {
   "cell_type": "code",
   "execution_count": 9,
   "id": "bc34d664",
   "metadata": {},
   "outputs": [],
   "source": [
    "def mape(y_test, pred):\n",
    "    y_test, pred = np.array(y_test), np.array(pred)\n",
    "    mape = np.mean(np.abs((y_test - pred) / y_test))\n",
    "    return mape"
   ]
  },
  {
   "cell_type": "code",
   "execution_count": 10,
   "id": "6530c9a4",
   "metadata": {
    "scrolled": false
   },
   "outputs": [
    {
     "name": "stdout",
     "output_type": "stream",
     "text": [
      "MAE 0.44478718509043547\n",
      "RMSE 0.6769244602656016\n",
      "MAPE 0.4711758767549639\n"
     ]
    }
   ],
   "source": [
    "#KNN\n",
    "KNN_model = KNeighborsRegressor(n_neighbors=11).fit(x_train, y_train)\n",
    "KNN_predict = KNN_model.predict(x_test)\n",
    "\n",
    "print(\"MAE\",mean_absolute_error(y_test, KNN_predict))\n",
    "print(\"RMSE\",math.sqrt(mean_squared_error(y_test, KNN_predict)))\n",
    "print(\"MAPE\",mape(y_test,KNN_predict))"
   ]
  },
  {
   "cell_type": "code",
   "execution_count": 11,
   "id": "cfdecddb",
   "metadata": {},
   "outputs": [
    {
     "name": "stderr",
     "output_type": "stream",
     "text": [
      "C:\\Users\\user\\AppData\\Local\\Temp\\ipykernel_24392\\3747007462.py:6: DataConversionWarning: A column-vector y was passed when a 1d array was expected. Please change the shape of y to (n_samples,), for example using ravel().\n",
      "  regressor.fit(x_train, y_train)\n"
     ]
    },
    {
     "name": "stdout",
     "output_type": "stream",
     "text": [
      "MAE 0.3864844260906408\n",
      "RMSE 0.6736519251648462\n",
      "MAPE 0.9610412753075407\n"
     ]
    },
    {
     "data": {
      "image/png": "[encoded data removed]",
      "text/plain": [
       "<Figure size 432x288 with 1 Axes>"
      ]
     },
     "metadata": {
      "needs_background": "light"
     },
     "output_type": "display_data"
    }
   ],
   "source": [
    "#RandomForest\n",
    " # create regressor object\n",
    "regressor = RandomForestRegressor(n_estimators = 100, random_state = 0)\n",
    "  \n",
    "# fit the regressor with x and y data\n",
    "regressor.fit(x_train, y_train)\n",
    "rf = regressor.predict(x_test)\n",
    "\n",
    "print(\"MAE\",mean_absolute_error(y_test, rf))\n",
    "print(\"RMSE\",math.sqrt(mean_squared_error(y_test, rf)))\n",
    "print(\"MAPE\",mape(y_test,rf))\n",
    "\n",
    "## important\n",
    "importances = pd.DataFrame(data={\n",
    "    'Attribute': x_train.columns,\n",
    "    'Importance': regressor.feature_importances_\n",
    "})\n",
    "importances = importances.sort_values(by='Importance', ascending=False)\n",
    "plt.bar(x=importances['Attribute'], height=importances['Importance'], color='#087E8B')\n",
    "plt.title('Feature importances obtained from coefficients', size=20)\n",
    "plt.xticks(rotation='vertical')\n",
    "plt.show()\n"
   ]
  },
  {
   "cell_type": "code",
   "execution_count": null,
   "id": "3ab19a97",
   "metadata": {
    "scrolled": true
   },
   "outputs": [
    {
     "name": "stderr",
     "output_type": "stream",
     "text": [
      "C:\\Users\\user\\anaconda3\\lib\\site-packages\\sklearn\\utils\\validation.py:993: DataConversionWarning: A column-vector y was passed when a 1d array was expected. Please change the shape of y to (n_samples, ), for example using ravel().\n",
      "  y = column_or_1d(y, warn=True)\n"
     ]
    }
   ],
   "source": [
    "#SVR \n",
    "clf = SVR(kernel='linear', C=1.25)\n",
    "clf.fit(x_train, y_train)\n",
    "clfp = clf.predict(x_test)\n",
    "\n",
    "print(\"MAE\",mean_absolute_error(y_test, clfp))\n",
    "print(\"RMSE\",math.sqrt(mean_squared_error(y_test, clfp)))\n",
    "print(\"MAPE\",mape(y_test,clfp))\n",
    "\n",
    "\n",
    "## important\n",
    "importances = pd.DataFrame(data={\n",
    "    'Attribute': x_train.columns,\n",
    "    'Importance': clf.feature_importances_\n",
    "})\n",
    "importances = importances.sort_values(by='Importance', ascending=False)\n",
    "plt.bar(x=importances['Attribute'], height=importances['Importance'], color='#087E8B')\n",
    "plt.title('Feature importances obtained from coefficients', size=20)\n",
    "plt.xticks(rotation='vertical')\n",
    "plt.show()"
   ]
  },
  {
   "cell_type": "code",
   "execution_count": null,
   "id": "8ddd98b3",
   "metadata": {},
   "outputs": [],
   "source": [
    "## 過濾類別(Race)\n",
    "y_train = data_scaler.drop(['race'], axis=1)\n",
    "\n",
    "x_train = data_scaler.drop(['race'], axis=1)\n",
    "\n",
    "y_test = test_data_scaler.drop([\"race\"], axis=1)\n",
    "\n",
    "x_test = test_data_scaler.drop([\"race\"], axis=1)\n",
    "\n",
    "\n",
    "#RandomForest\n",
    "regressor = RandomForestRegressor(n_estimators = 100, random_state = 0)\n",
    "  \n",
    "# fit the regressor with x and y data\n",
    "regressor.fit(x_train, y_train)\n",
    "rf = regressor.predict(x_test)\n",
    "\n",
    "print(\"MAE\",mean_absolute_error(y_test, rf))\n",
    "print(\"RMSE\",math.sqrt(mean_squared_error(y_test, rf)))\n",
    "print(\"MAPE\",mape(y_test,rf))\n",
    "\n",
    "## important\n",
    "importances = pd.DataFrame(data={\n",
    "    'Attribute': x_train.columns,\n",
    "    'Importance': regressor.feature_importances_\n",
    "})\n",
    "importances = importances.sort_values(by='Importance', ascending=False)\n",
    "plt.bar(x=importances['Attribute'], height=importances['Importance'], color='#087E8B')\n",
    "plt.title('Feature importances obtained from coefficients', size=20)\n",
    "plt.xticks(rotation='vertical')\n",
    "plt.show()"
   ]
  },
  {
   "cell_type": "code",
   "execution_count": null,
   "id": "5fe14413",
   "metadata": {},
   "outputs": [],
   "source": []
  }
 ],
 "metadata": {
  "kernelspec": {
   "display_name": "Python 3 (ipykernel)",
   "language": "python",
   "name": "python3"
  },
  "language_info": {
   "codemirror_mode": {
    "name": "ipython",
    "version": 3
   },
   "file_extension": ".py",
   "mimetype": "text/x-python",
   "name": "python",
   "nbconvert_exporter": "python",
   "pygments_lexer": "ipython3",
   "version": "3.9.12"
  }
 },
 "nbformat": 4,
 "nbformat_minor": 5
}
