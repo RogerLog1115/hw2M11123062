{
 "cells": [
  {
   "cell_type": "code",
   "execution_count": 1,
   "id": "4e47be4f",
   "metadata": {},
   "outputs": [],
   "source": [
    "import math\n",
    "import numpy as np\n",
    "import pandas as pd\n",
    "import matplotlib.pyplot as plt\n",
    "from sklearn.preprocessing import StandardScaler\n",
    "from sklearn.model_selection import train_test_split\n",
    "from sklearn.neighbors import KNeighborsClassifier\n",
    "from sklearn import svm\n",
    "from sklearn.ensemble import RandomForestRegressor\n",
    "from sklearn import metrics"
   ]
  },
  {
   "cell_type": "code",
   "execution_count": 2,
   "id": "03765151",
   "metadata": {},
   "outputs": [],
   "source": [
    "def plot_feature_importances(model):\n",
    "    n_features = X.shape[1]\n",
    "    plt.figure()\n",
    "    plt.barh(np.arange(n_features), model.feature_importances_, align='center')\n",
    "    plt.yticks(np.arange(n_features), X.columns)\n",
    "    plt.xlabel(\"Feature importance\")\n",
    "    plt.ylabel(\"Feature\")\n",
    "    plt.ylim(-1, n_features)\n",
    "    plt.show()"
   ]
  },
  {
   "cell_type": "code",
   "execution_count": 3,
   "id": "5ad677ba",
   "metadata": {
    "scrolled": true
   },
   "outputs": [],
   "source": [
    "#匯入資料\n",
    "data = pd.read_csv(\"C:\\\\Bias_correction_ucl.csv\")\n",
    "\n",
    "data = data.drop([\"Date\"], axis=1)\n",
    "data = data.dropna()"
   ]
  },
  {
   "cell_type": "code",
   "execution_count": 4,
   "id": "22f13049",
   "metadata": {},
   "outputs": [],
   "source": [
    "#切割訓練、測試集\n",
    "X = data.drop([\"Next_Tmax\", \"Next_Tmin\"], axis=1)\n",
    "y = data[\"Next_Tmax\"]\n",
    "X_train, X_test, y_train, y_test = train_test_split(X,y, test_size=0.3, random_state=0)"
   ]
  },
  {
   "cell_type": "code",
   "execution_count": 5,
   "id": "0a8acec8",
   "metadata": {},
   "outputs": [],
   "source": [
    "#資料標準化\n",
    "scaler = StandardScaler()\n",
    "scaler.fit(X)\n",
    "scaled_features = scaler.transform(X)\n",
    "X = pd.DataFrame(scaled_features, columns=data.columns[:-2])"
   ]
  },
  {
   "cell_type": "code",
   "execution_count": 6,
   "id": "4a8a3c6b",
   "metadata": {},
   "outputs": [
    {
     "name": "stdout",
     "output_type": "stream",
     "text": [
      "KNN調整前之MAE: 8.728120333772507\n",
      "KNN調整前之RMAE: 2.9543392380991906\n",
      "KNN調整前之MAPE: 0.07163582763366123\n"
     ]
    }
   ],
   "source": [
    "#KNN(n=3)調整前\n",
    "knn = KNeighborsClassifier(n_neighbors=3)\n",
    "knn.fit(X_train, y_train.astype(\"string\"))\n",
    "pred = knn.predict(X_test)\n",
    "\n",
    "MAE = metrics.mean_squared_error(y_test, pred)\n",
    "\n",
    "print(\"KNN調整前之MAE:\", MAE)\n",
    "print(\"KNN調整前之RMAE:\", math.sqrt(MAE))\n",
    "print(\"KNN調整前之MAPE:\", metrics.mean_absolute_percentage_error(y_test, pred))"
   ]
  },
  {
   "cell_type": "code",
   "execution_count": 7,
   "id": "1b25a99f",
   "metadata": {},
   "outputs": [
    {
     "name": "stdout",
     "output_type": "stream",
     "text": [
      "SVR調整前之MAE: 9.524593335702887\n",
      "SVR調整前之RMAE: 3.086193988670007\n",
      "SVR調整前之MAPE: 0.08656282809784473\n"
     ]
    }
   ],
   "source": [
    "#SVR調整前\n",
    "svr = svm.SVR(C=1)\n",
    "svr.fit(X_train, y_train)\n",
    "pred = svr.predict(X_test)\n",
    "\n",
    "MAE = metrics.mean_squared_error(y_test, pred)\n",
    "\n",
    "print(\"SVR調整前之MAE:\", MAE)\n",
    "print(\"SVR調整前之RMAE:\", math.sqrt(MAE))\n",
    "print(\"SVR調整前之MAPE:\", metrics.mean_absolute_percentage_error(y_test, pred))"
   ]
  },
  {
   "cell_type": "code",
   "execution_count": 8,
   "id": "930c2a4e",
   "metadata": {},
   "outputs": [
    {
     "name": "stdout",
     "output_type": "stream",
     "text": [
      "RandomForest調整前之MAE: 1.0223563724198494\n",
      "RandomForest調整前之RMAE: 1.0111163990460492\n",
      "RandomForest調整前之MAPE: 0.025554611754237636\n"
     ]
    }
   ],
   "source": [
    "#RandomForest調整前\n",
    "randomForest = RandomForestRegressor(n_estimators=100, criterion = \"mse\")\n",
    "randomForest.fit(X_train, y_train)\n",
    "pred = randomForest.predict(X_test)\n",
    "\n",
    "MAE = metrics.mean_squared_error(y_test, pred)\n",
    "\n",
    "print(\"RandomForest調整前之MAE:\", MAE)\n",
    "print(\"RandomForest調整前之RMAE:\", math.sqrt(MAE))\n",
    "print(\"RandomForest調整前之MAPE:\", metrics.mean_absolute_percentage_error(y_test, pred))"
   ]
  },
  {
   "cell_type": "code",
   "execution_count": 9,
   "id": "d52fa70f",
   "metadata": {},
   "outputs": [
    {
     "data": {
      "image/png": "[encoded data removed]",
      "text/plain": [
       "<Figure size 432x288 with 1 Axes>"
      ]
     },
     "metadata": {
      "needs_background": "light"
     },
     "output_type": "display_data"
    }
   ],
   "source": [
    "#特徵重要性-以RandomForest Model找尋重要性最高之特徵\n",
    "plot_feature_importances(randomForest)"
   ]
  },
  {
   "cell_type": "code",
   "execution_count": 10,
   "id": "2cfdd2c8",
   "metadata": {},
   "outputs": [],
   "source": [
    "#刪除重要性最高之特徵-LDAPS_Tmax_lapse\n",
    "X_train = X_train.drop([\"LDAPS_Tmax_lapse\"], axis=1)\n",
    "X_test = X_test.drop([\"LDAPS_Tmax_lapse\"], axis=1)"
   ]
  },
  {
   "cell_type": "code",
   "execution_count": 11,
   "id": "bf4822ed",
   "metadata": {},
   "outputs": [
    {
     "name": "stdout",
     "output_type": "stream",
     "text": [
      "KNN調整後之MAE: 9.215331576635924\n",
      "KNN調整後之RMAE: 3.0356764611262386\n",
      "KNN調整後之MAPE: 0.07335915373184279\n"
     ]
    }
   ],
   "source": [
    "#KNN(n=3)調整後\n",
    "knn = KNeighborsClassifier(n_neighbors=3)\n",
    "knn.fit(X_train, y_train.astype(\"string\"))\n",
    "pred = knn.predict(X_test)\n",
    "\n",
    "MAE = metrics.mean_squared_error(y_test, pred)\n",
    "\n",
    "print(\"KNN調整後之MAE:\", MAE)\n",
    "print(\"KNN調整後之RMAE:\", math.sqrt(MAE))\n",
    "print(\"KNN調整後之MAPE:\", metrics.mean_absolute_percentage_error(y_test, pred))"
   ]
  },
  {
   "cell_type": "code",
   "execution_count": 12,
   "id": "e9e84b6a",
   "metadata": {},
   "outputs": [
    {
     "name": "stdout",
     "output_type": "stream",
     "text": [
      "SVR調整後之MAE: 9.534384416115058\n",
      "SVR調整後之RMAE: 3.087779852274941\n",
      "SVR調整後之MAPE: 0.08660609974546149\n"
     ]
    }
   ],
   "source": [
    "#SVR調整後\n",
    "svr = svm.SVR(C=1)\n",
    "svr.fit(X_train, y_train)\n",
    "pred = svr.predict(X_test)\n",
    "\n",
    "MAE = metrics.mean_squared_error(y_test, pred)\n",
    "\n",
    "print(\"SVR調整後之MAE:\", MAE)\n",
    "print(\"SVR調整後之RMAE:\", math.sqrt(MAE))\n",
    "print(\"SVR調整後之MAPE:\", metrics.mean_absolute_percentage_error(y_test, pred))"
   ]
  },
  {
   "cell_type": "code",
   "execution_count": 13,
   "id": "102dec83",
   "metadata": {},
   "outputs": [
    {
     "name": "stdout",
     "output_type": "stream",
     "text": [
      "RandomForest調整後之MAE: 0.9906771638120332\n",
      "RandomForest調整後之RMAE: 0.9953276665561112\n",
      "RandomForest調整後之MAPE: 0.0244594103590644\n"
     ]
    }
   ],
   "source": [
    "#RandomForest調整後\n",
    "randomForest = RandomForestRegressor(n_estimators=100, criterion = \"mse\")\n",
    "randomForest.fit(X_train, y_train)\n",
    "pred = randomForest.predict(X_test)\n",
    "\n",
    "MAE = metrics.mean_squared_error(y_test, pred)\n",
    "\n",
    "print(\"RandomForest調整後之MAE:\", MAE)\n",
    "print(\"RandomForest調整後之RMAE:\", math.sqrt(MAE))\n",
    "print(\"RandomForest調整後之MAPE:\", metrics.mean_absolute_percentage_error(y_test, pred))"
   ]
  }
 ],
 "metadata": {
  "kernelspec": {
   "display_name": "Python 3 (ipykernel)",
   "language": "python",
   "name": "python3"
  },
  "language_info": {
   "codemirror_mode": {
    "name": "ipython",
    "version": 3
   },
   "file_extension": ".py",
   "mimetype": "text/x-python",
   "name": "python",
   "nbconvert_exporter": "python",
   "pygments_lexer": "ipython3",
   "version": "3.9.7"
  }
 },
 "nbformat": 4,
 "nbformat_minor": 5
}
